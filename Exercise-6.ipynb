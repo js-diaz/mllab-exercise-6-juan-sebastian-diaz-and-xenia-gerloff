{
 "cells": [
  {
   "cell_type": "code",
   "execution_count": null,
   "metadata": {},
   "outputs": [],
   "source": [
    "import numpy as np\n",
    "import pandas as pd\n",
    "import matplotlib.pyplot as plt\n",
    "import matplotlib.colors as mcolors\n",
    "import matplotlib.cm as cm\n",
    "from sklearn.decomposition import PCA"
   ]
  },
  {
   "cell_type": "code",
   "execution_count": null,
   "metadata": {},
   "outputs": [],
   "source": [
    "pd.read_csv('Truck-Crash-Data/origPositions.csv')"
   ]
  },
  {
   "cell_type": "markdown",
   "metadata": {},
   "source": [
    "We can ignore the node numbers, they're always in order"
   ]
  },
  {
   "cell_type": "code",
   "execution_count": null,
   "metadata": {},
   "outputs": [],
   "source": [
    "origPositions = np.array(pd.read_csv('Truck-Crash-Data/origPositions.csv'))[:,1:]\n",
    "nPoints = origPositions.shape[0]\n",
    "nDisp = 126\n",
    "displacementSim = np.zeros((nDisp, nPoints, 3))\n",
    "for i in range(nDisp):\n",
    "    displacementSim[i] = np.array(pd.read_csv('Truck-Crash-Data/DisplacementSimulation' + str(i+1) + '.csv'))[:,1:]\n",
    "displacementSim.shape"
   ]
  },
  {
   "cell_type": "markdown",
   "metadata": {},
   "source": [
    "Visualize the beams before and after the simulated crash:"
   ]
  },
  {
   "cell_type": "code",
   "execution_count": null,
   "metadata": {},
   "outputs": [],
   "source": [
    "# rescale for easier plotting \n",
    "originalMax = np.max(origPositions, axis = 0)\n",
    "originalMin = np.min(origPositions, axis = 0)\n",
    "displacedMax = np.max(displacementSim + origPositions, axis = (0, 1))\n",
    "displacedMin = np.min(displacementSim + origPositions, axis = (0, 1))\n",
    "maximum = np.maximum(originalMax, displacedMax)\n",
    "minimum = np.minimum(originalMin, displacedMin)\n",
    "\n",
    "origPositionsNorm = (origPositions - minimum)/(maximum - minimum)\n",
    "displacedPositionsNorm = ((displacementSim + origPositions) - minimum)/(maximum - minimum) "
   ]
  },
  {
   "cell_type": "code",
   "execution_count": null,
   "metadata": {},
   "outputs": [],
   "source": [
    "\n",
    "def beamPlot(nodes, elevation = 30, rotation = 60, which = \"both\", title = \"\"):\n",
    "    \"\"\" nodes:      array containing the x, y, z positions of the nodes\n",
    "        elevation:  elevation angle in the vertical plane in degrees\n",
    "        rotation:   angle in the horizontal plane in degrees\n",
    "        which:      one of {\"left\", \"right\", \"both\"}, controls which beams are shown\n",
    "        title:      string for figure title\n",
    "    \"\"\"\n",
    "    maxLimits = [1, 1, 1]\n",
    "    minLimits = [0, 0, 0]\n",
    "    margin = 0.05\n",
    "    fig = plt.figure(figsize=[8, 8])\n",
    "    ax = fig.add_subplot(projection = \"3d\")\n",
    "    if which == \"both\":\n",
    "        ax.scatter(nodes[1714:,0], nodes[1714:, 1], nodes[1714:, 2], s = 5,color = \"#488f31\", alpha = 0.5) \n",
    "        ax.scatter(nodes[:1714,0], nodes[:1714, 1], nodes[:1714, 2], s = 5,color = \"#de425b\", alpha = 0.5) # we have more nodes in the red beam\n",
    "    elif which == \"right\" :\n",
    "        ax.scatter(nodes[:1714,0], nodes[:1714, 1], nodes[:1714, 2], s = 5, color = \"#de425b\", alpha = 0.5) \n",
    "    elif which == \"left\":\n",
    "        ax.scatter(nodes[1714:,0], nodes[1714:, 1], nodes[1714:, 2], s = 5,color = \"#488f31\", alpha = 0.5)\n",
    "    ax.tick_params(color = \"grey\")\n",
    "    ax.view_init(elev = elevation,azim = rotation)\n",
    "    ax.set_xlim(min(minLimits[0], 0) - margin, max(maxLimits[0], 1) + margin)\n",
    "    ax.set_ylim(min(minLimits[1], 0) - margin, max(maxLimits[1], 1) + margin)\n",
    "    ax.set_zlim(min(minLimits[2], 0) - margin, max(maxLimits[2], 1) + margin)\n",
    "    plt.title(title, size = 20, y = 0.95, loc=\"left\")\n",
    "    plt.show()\n"
   ]
  },
  {
   "cell_type": "code",
   "execution_count": null,
   "metadata": {},
   "outputs": [],
   "source": [
    "beamPlot(origPositionsNorm[:,:], 90, 0, \"both\", title = \"Original Position\")\n",
    "beamPlot(displacedPositionsNorm[30,:,:], 90, 0, \"both\", title =\"Displaced Position\")"
   ]
  },
  {
   "cell_type": "markdown",
   "metadata": {},
   "source": [
    "Next we want to visualize the displacement:\n",
    "\n",
    "This is done by first normalizing appropriately and then mapping the displacement in a certain direction to a range of colors. \n",
    "We then create a sort of barcode by plotting a thin strip of color for each node. The order of the nodes is fixed so the resulting image gives an idea of the overall displacement. The goal is to have a more abstract but also more accurate way of visualizing a data point."
   ]
  },
  {
   "cell_type": "code",
   "execution_count": null,
   "metadata": {},
   "outputs": [],
   "source": [
    "def normalize_sign(matrix):\n",
    "    max = np.max(matrix, axis = (0, 1))\n",
    "    min = np.min(matrix, axis = (0, 1))\n",
    "    limits = np.maximum(np.abs(max), np.abs(min)) \n",
    "\n",
    "    return displacementSim/limits # sign is preserved, normalize with respect to the largest displacement in any direction\n",
    "displacementNorm = normalize_sign(displacementSim)"
   ]
  },
  {
   "cell_type": "code",
   "execution_count": null,
   "metadata": {},
   "outputs": [],
   "source": [
    "def displacementPlot(data, showDirection = \"one\", title = \"\"):\n",
    "    \"\"\" data:           normalized displacement data, if direction != \"one\", then of shape (N, 3), else of shape (N, )\n",
    "        showDirection:  string, controls which directions are shown\n",
    "        title:          string for figure title\n",
    "    \"\"\"\n",
    "    norm = mcolors.CenteredNorm(vcenter = 0, halfrange = 1) # assume normalization\n",
    "    mapper = cm.ScalarMappable(norm = norm, cmap = cm.RdYlBu)\n",
    "    directions = [\"X\", \"Y\", \"Z\"]\n",
    "\n",
    "    if showDirection == \"xyz\":\n",
    "        fig, ax = plt.subplots(nrows = 1, ncols = 3, figsize=(21,3))\n",
    "        for i in [0, 1, 2]:\n",
    "            rgbaArray = np.expand_dims(mapper.to_rgba(data[:, i]), axis = 0)\n",
    "            ax[i].axis(\"off\")\n",
    "            ax[i].set_title(directions[i] + \"-direction\")\n",
    "            ax[i].imshow(rgbaArray, extent=[0, rgbaArray.shape[1], 0, 1], aspect= \"auto\")\n",
    "            fig.tight_layout()\n",
    "            fig.suptitle(title, size = 20, y = 1)\n",
    "        plt.show()\n",
    "\n",
    "    if showDirection == \"yz\":\n",
    "        fig, ax = plt.subplots(nrows = 1, ncols = 2, figsize=(21,3))\n",
    "        for i in [0, 1]:\n",
    "            rgbaArray = np.expand_dims(mapper.to_rgba(data[:, i+1]), axis = 0)\n",
    "            ax[i].axis(\"off\")\n",
    "            ax[i].set_title(directions[i+1] + \"-direction\")\n",
    "            ax[i].imshow(rgbaArray, extent=[0, rgbaArray.shape[1], 0, 1], aspect= \"auto\")\n",
    "            fig.tight_layout()\n",
    "            fig.suptitle(title, size = 20, y = 1)\n",
    "        plt.show()\n",
    "            \n",
    "    if showDirection == \"one\":\n",
    "        fig = plt.figure(figsize=(8, 2))\n",
    "        rgbaArray = np.expand_dims(mapper.to_rgba(data), axis = 0)\n",
    "        plt.axis(\"off\")\n",
    "        plt.imshow(rgbaArray, extent=[0, rgbaArray.shape[1], 0, 1], aspect= \"auto\")\n",
    "        plt.title(title, size = 20, y = 1, loc = \"left\")\n",
    "        plt.show()\n",
    "    "
   ]
  },
  {
   "cell_type": "code",
   "execution_count": null,
   "metadata": {},
   "outputs": [],
   "source": [
    "test = np.arange(start = -1, stop = 1, step = 0.01)\n",
    "displacementPlot(test, title = \"Range of colors from -1 to 1\")"
   ]
  },
  {
   "cell_type": "code",
   "execution_count": null,
   "metadata": {},
   "outputs": [],
   "source": [
    "%matplotlib inline\n",
    "for i in np.random.choice(nDisp, 10):\n",
    "    displacementPlot(displacementNorm[i, :, :], showDirection= \"yz\", title = \"Data point \" + str(i))"
   ]
  },
  {
   "cell_type": "markdown",
   "metadata": {},
   "source": [
    "### Naive PCA Approaches\n",
    "\n",
    "First approach: do PCA taking all displacements as separate points. This allows us to use the plot above to look at the eigendisplacements."
   ]
  },
  {
   "cell_type": "code",
   "execution_count": null,
   "metadata": {},
   "outputs": [],
   "source": [
    "dispVector = displacementNorm.reshape((nDisp, nPoints*3))\n",
    "pca = PCA(n_components=50)\n",
    "pca = pca.fit(dispVector)\n",
    "Vq = pca.components_.reshape((50, nPoints, 3))"
   ]
  },
  {
   "cell_type": "code",
   "execution_count": null,
   "metadata": {},
   "outputs": [],
   "source": [
    "%matplotlib inline\n",
    "VqNorm = normalize_sign(Vq)\n",
    "for i in range(10):\n",
    "    displacementPlot(VqNorm[i, :, :], showDirection= \"yz\", title = \"Eigendisplacement \" + str(i))"
   ]
  },
  {
   "cell_type": "code",
   "execution_count": null,
   "metadata": {},
   "outputs": [],
   "source": [
    "pca = PCA(n_components=2)\n",
    "pca = pca.fit(dispVector)\n",
    "\n",
    "reducedDisp = pca.transform(dispVector)\n",
    "plt.scatter(reducedDisp[:,0],reducedDisp[:,1], c=range(nDisp))"
   ]
  },
  {
   "cell_type": "markdown",
   "metadata": {},
   "source": [
    "**Second approach** Very similar but classifying points, not simulations."
   ]
  },
  {
   "cell_type": "code",
   "execution_count": null,
   "metadata": {},
   "outputs": [],
   "source": [
    "dispVector = displacementNorm.reshape((nPoints, nDisp*3))\n",
    "pca = PCA(n_components=2)\n",
    "pca = pca.fit(dispVector)\n",
    "\n",
    "reducedDisp = pca.transform(dispVector)\n",
    "plt.scatter(reducedDisp[:,0],reducedDisp[:,1])"
   ]
  },
  {
   "cell_type": "markdown",
   "metadata": {},
   "source": [
    "This doesn't show any clear differences between the points.\n",
    "\n",
    "We can also add the displacement to the position to observe the final position, and do these approaches on that data"
   ]
  },
  {
   "cell_type": "code",
   "execution_count": null,
   "metadata": {},
   "outputs": [],
   "source": [
    "posVector = displacedPositionsNorm.reshape((nDisp, nPoints*3))\n",
    "pca = PCA(n_components=2)\n",
    "pca = pca.fit(posVector)\n",
    "Vq = pca.components_.reshape((2, nPoints, 3))"
   ]
  },
  {
   "cell_type": "code",
   "execution_count": null,
   "metadata": {},
   "outputs": [],
   "source": [
    "%matplotlib inline\n",
    "VqNorm = (Vq - np.min(Vq))/np.ptp(Vq)\n",
    "for i in range(2):\n",
    "    beamPlot(VqNorm[i,:,:], 90, 0, \"both\", title =\"Eigenposition \" + str(i))"
   ]
  },
  {
   "cell_type": "code",
   "execution_count": null,
   "metadata": {},
   "outputs": [],
   "source": [
    "reducedPos = pca.transform(posVector)\n",
    "plt.scatter(reducedPos[:,0],reducedPos[:,1], c=range(nDisp))"
   ]
  },
  {
   "cell_type": "code",
   "execution_count": null,
   "metadata": {},
   "outputs": [],
   "source": [
    "posVector = displacedPositionsNorm.reshape((nPoints, nDisp*3))\n",
    "pca = PCA(n_components=2)\n",
    "pca = pca.fit(posVector)\n",
    "\n",
    "reducedPos = pca.transform(posVector)\n",
    "plt.scatter(reducedPos[:,0],reducedPos[:,1])"
   ]
  },
  {
   "cell_type": "markdown",
   "metadata": {},
   "source": [
    "Here you can see it sort of conserves the figure of the displaced beams."
   ]
  }
 ],
 "metadata": {
  "kernelspec": {
   "display_name": "Python 3.10.4 64-bit",
   "language": "python",
   "name": "python3"
  },
  "language_info": {
   "codemirror_mode": {
    "name": "ipython",
    "version": 3
   },
   "file_extension": ".py",
   "mimetype": "text/x-python",
   "name": "python",
   "nbconvert_exporter": "python",
   "pygments_lexer": "ipython3",
   "version": "3.10.4"
  },
  "orig_nbformat": 4,
  "vscode": {
   "interpreter": {
    "hash": "916dbcbb3f70747c44a77c7bcd40155683ae19c65e1c03b4aa3499c5328201f1"
   }
  }
 },
 "nbformat": 4,
 "nbformat_minor": 2
}
