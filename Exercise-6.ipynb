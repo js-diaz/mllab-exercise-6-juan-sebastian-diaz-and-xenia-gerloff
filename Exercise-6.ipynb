{
 "cells": [
  {
   "cell_type": "code",
   "execution_count": null,
   "metadata": {},
   "outputs": [],
   "source": [
    "import numpy as np\n",
    "import pandas as pd\n",
    "import matplotlib.pyplot as plt"
   ]
  },
  {
   "cell_type": "code",
   "execution_count": null,
   "metadata": {},
   "outputs": [],
   "source": [
    "pd.read_csv('Truck-Crash-Data/origPositions.csv')"
   ]
  },
  {
   "cell_type": "markdown",
   "metadata": {},
   "source": [
    "We can ignore the node numbers, they're always in order"
   ]
  },
  {
   "cell_type": "code",
   "execution_count": null,
   "metadata": {},
   "outputs": [],
   "source": [
    "origPositions = np.array(pd.read_csv('Truck-Crash-Data/origPositions.csv'))[:,1:]\n",
    "displacementSim = np.zeros((126, origPositions.shape[0], 3))\n",
    "for i in range(126):\n",
    "    displacementSim[i] = np.array(pd.read_csv('Truck-Crash-Data/DisplacementSimulation' + str(i+1) + '.csv'))[:,1:]\n",
    "displacementSim.shape"
   ]
  },
  {
   "cell_type": "markdown",
   "metadata": {},
   "source": [
    "Visualize the beams before and after the simulated crash:"
   ]
  },
  {
   "cell_type": "code",
   "execution_count": null,
   "metadata": {},
   "outputs": [],
   "source": [
    "# rescale for easier plotting \n",
    "originalMax = np.max(origPositions, axis = 0)\n",
    "originalMin = np.min(origPositions, axis = 0)\n",
    "displacedMax = np.max(displacementSim + origPositions, axis = (0, 1))\n",
    "displacedMin = np.min(displacementSim + origPositions, axis = (0, 1))\n",
    "maximum = np.maximum(originalMax, displacedMax)\n",
    "minimum = np.minimum(originalMin, displacedMin)\n",
    "\n",
    "origPositionsNorm = (origPositions - minimum)/(maximum - minimum)\n",
    "displacedPositionsNorm = ((displacementSim + origPositions) - minimum)/(maximum - minimum) "
   ]
  },
  {
   "cell_type": "code",
   "execution_count": null,
   "metadata": {},
   "outputs": [],
   "source": [
    "\n",
    "def beamPlot(nodes, elevation = 30, rotation = 60, which = \"both\", title = \"\"):\n",
    "    \"\"\" nodes:      array containing the x, y, z positions of the nodes\n",
    "        elevation:  elevation angle in the vertical plane in degrees\n",
    "        rotation:   angle in the horizontal plane in degrees\n",
    "        which:      one of {\"left\", \"right\", \"both\"}, controls which beams are shown\n",
    "        title:      string for figure title\n",
    "    \"\"\"\n",
    "    maxLimits = [1, 1, 1]\n",
    "    minLimits = [0, 0, 0]\n",
    "    margin = 0.05\n",
    "    fig = plt.figure(figsize=[8, 8])\n",
    "    ax = fig.add_subplot(projection = \"3d\")\n",
    "    if which == \"both\":\n",
    "        ax.scatter(nodes[1714:,0], nodes[1714:, 1], nodes[1714:, 2], s = 5,color = \"#488f31\", alpha = 0.5) \n",
    "        ax.scatter(nodes[:1714,0], nodes[:1714, 1], nodes[:1714, 2], s = 5,color = \"#de425b\", alpha = 0.5) # we have more nodes in the red beam\n",
    "    elif which == \"right\" :\n",
    "        ax.scatter(nodes[:1714,0], nodes[:1714, 1], nodes[:1714, 2], s = 5, color = \"#de425b\", alpha = 0.5) \n",
    "    elif which == \"left\":\n",
    "        ax.scatter(nodes[1714:,0], nodes[1714:, 1], nodes[1714:, 2], s = 5,color = \"#488f31\", alpha = 0.5)\n",
    "    ax.tick_params(color = \"grey\")\n",
    "    ax.view_init(elev = elevation,azim = rotation)\n",
    "    ax.set_xlim(min(minLimits[0], 0) - margin, max(maxLimits[0], 1) + margin)\n",
    "    ax.set_ylim(min(minLimits[1], 0) - margin, max(maxLimits[1], 1) + margin)\n",
    "    ax.set_zlim(min(minLimits[2], 0) - margin, max(maxLimits[2], 1) + margin)\n",
    "    plt.title(title, size = 20, y = 0.95, loc=\"left\")\n",
    "    plt.show()\n"
   ]
  },
  {
   "cell_type": "code",
   "execution_count": null,
   "metadata": {},
   "outputs": [],
   "source": [
    "beamPlot(origPositionsNorm[:,:], 30, 60, \"both\", title = \"Original Position\")\n",
    "beamPlot(displacedPositionsNorm[0,:,:], 30, 60, \"both\", title =\"Displaced Position\")"
   ]
  }
 ],
 "metadata": {
  "kernelspec": {
   "display_name": "Python 3.9.9 64-bit",
   "language": "python",
   "name": "python3"
  },
  "language_info": {
   "codemirror_mode": {
    "name": "ipython",
    "version": 3
   },
   "file_extension": ".py",
   "mimetype": "text/x-python",
   "name": "python",
   "nbconvert_exporter": "python",
   "pygments_lexer": "ipython3",
   "version": "3.9.9"
  },
  "orig_nbformat": 4,
  "vscode": {
   "interpreter": {
    "hash": "aee8b7b246df8f9039afb4144a1f6fd8d2ca17a180786b69acc140d282b71a49"
   }
  }
 },
 "nbformat": 4,
 "nbformat_minor": 2
}
