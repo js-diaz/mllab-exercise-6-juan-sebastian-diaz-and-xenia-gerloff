{
 "cells": [
  {
   "cell_type": "code",
   "execution_count": null,
   "metadata": {},
   "outputs": [],
   "source": [
    "import numpy as np\n",
    "import pandas as pd\n",
    "import matplotlib.pyplot as plt\n",
    "import matplotlib.colors as mcolors\n",
    "import matplotlib.cm as cm"
   ]
  },
  {
   "cell_type": "code",
   "execution_count": null,
   "metadata": {},
   "outputs": [],
   "source": [
    "pd.read_csv('Truck-Crash-Data/origPositions.csv')"
   ]
  },
  {
   "cell_type": "markdown",
   "metadata": {},
   "source": [
    "We can ignore the node numbers, they're always in order"
   ]
  },
  {
   "cell_type": "code",
   "execution_count": null,
   "metadata": {},
   "outputs": [],
   "source": [
    "origPositions = np.array(pd.read_csv('Truck-Crash-Data/origPositions.csv'))[:,1:]\n",
    "displacementSim = np.zeros((126, origPositions.shape[0], 3))\n",
    "for i in range(126):\n",
    "    displacementSim[i] = np.array(pd.read_csv('Truck-Crash-Data/DisplacementSimulation' + str(i+1) + '.csv'))[:,1:]\n",
    "displacementSim.shape"
   ]
  },
  {
   "cell_type": "markdown",
   "metadata": {},
   "source": [
    "Visualize the beams before and after the simulated crash:"
   ]
  },
  {
   "cell_type": "code",
   "execution_count": null,
   "metadata": {},
   "outputs": [],
   "source": [
    "# rescale for easier plotting \n",
    "originalMax = np.max(origPositions, axis = 0)\n",
    "originalMin = np.min(origPositions, axis = 0)\n",
    "displacedMax = np.max(displacementSim + origPositions, axis = (0, 1))\n",
    "displacedMin = np.min(displacementSim + origPositions, axis = (0, 1))\n",
    "maximum = np.maximum(originalMax, displacedMax)\n",
    "minimum = np.minimum(originalMin, displacedMin)\n",
    "\n",
    "origPositionsNorm = (origPositions - minimum)/(maximum - minimum)\n",
    "displacedPositionsNorm = ((displacementSim + origPositions) - minimum)/(maximum - minimum) "
   ]
  },
  {
   "cell_type": "code",
   "execution_count": null,
   "metadata": {},
   "outputs": [],
   "source": [
    "\n",
    "def beamPlot(nodes, elevation = 30, rotation = 60, which = \"both\", title = \"\"):\n",
    "    \"\"\" nodes:      array containing the x, y, z positions of the nodes\n",
    "        elevation:  elevation angle in the vertical plane in degrees\n",
    "        rotation:   angle in the horizontal plane in degrees\n",
    "        which:      one of {\"left\", \"right\", \"both\"}, controls which beams are shown\n",
    "        title:      string for figure title\n",
    "    \"\"\"\n",
    "    maxLimits = [1, 1, 1]\n",
    "    minLimits = [0, 0, 0]\n",
    "    margin = 0.05\n",
    "    fig = plt.figure(figsize=[8, 8])\n",
    "    ax = fig.add_subplot(projection = \"3d\")\n",
    "    if which == \"both\":\n",
    "        ax.scatter(nodes[1714:,0], nodes[1714:, 1], nodes[1714:, 2], s = 5,color = \"#488f31\", alpha = 0.5) \n",
    "        ax.scatter(nodes[:1714,0], nodes[:1714, 1], nodes[:1714, 2], s = 5,color = \"#de425b\", alpha = 0.5) # we have more nodes in the red beam\n",
    "    elif which == \"right\" :\n",
    "        ax.scatter(nodes[:1714,0], nodes[:1714, 1], nodes[:1714, 2], s = 5, color = \"#de425b\", alpha = 0.5) \n",
    "    elif which == \"left\":\n",
    "        ax.scatter(nodes[1714:,0], nodes[1714:, 1], nodes[1714:, 2], s = 5,color = \"#488f31\", alpha = 0.5)\n",
    "    ax.tick_params(color = \"grey\")\n",
    "    ax.view_init(elev = elevation,azim = rotation)\n",
    "    ax.set_xlim(min(minLimits[0], 0) - margin, max(maxLimits[0], 1) + margin)\n",
    "    ax.set_ylim(min(minLimits[1], 0) - margin, max(maxLimits[1], 1) + margin)\n",
    "    ax.set_zlim(min(minLimits[2], 0) - margin, max(maxLimits[2], 1) + margin)\n",
    "    plt.title(title, size = 20, y = 0.95, loc=\"left\")\n",
    "    plt.show()\n"
   ]
  },
  {
   "cell_type": "code",
   "execution_count": null,
   "metadata": {},
   "outputs": [],
   "source": [
    "beamPlot(origPositionsNorm[:,:], 30, 60, \"both\", title = \"Original Position\")\n",
    "beamPlot(displacedPositionsNorm[50,:,:], 30, 60, \"both\", title =\"Displaced Position\")"
   ]
  },
  {
   "cell_type": "markdown",
   "metadata": {},
   "source": [
    "Next we want to visualize the displacement:\n",
    "\n",
    "This is done by first normalizing appropriately and then mapping the displacement in a certain direction to a range of colors. \n",
    "We then create a sort of barcode by plotting a thin strip of color for each node. The order of the nodes is fixed so the resulting image gives an idea of the overall displacement. The goal is to have a more abstract but also more accurate way of visualizing a data point."
   ]
  },
  {
   "cell_type": "code",
   "execution_count": null,
   "metadata": {},
   "outputs": [],
   "source": [
    "displacementMax = np.max(displacementSim, axis = (0, 1))\n",
    "displacementMin = np.min(displacementSim, axis = (0, 1))\n",
    "limits = np.maximum(np.abs(displacementMax), np.abs(displacementMin)) \n",
    "\n",
    "displacementNorm = displacementSim/limits # sign is preserved, normalize with respect to the largest displacement in any direction"
   ]
  },
  {
   "cell_type": "code",
   "execution_count": null,
   "metadata": {},
   "outputs": [],
   "source": [
    "def displacementPlot(data, allDirections = False, title = \"\"):\n",
    "    \"\"\" data:           normalized displacement data, if allDirections, then of shape (N, 3), else of shape (N, )\n",
    "        allDirections:  boolean, if true, the plot contains three subplots for the x, y and z displacement respectively\n",
    "        title:          string for figure title\n",
    "    \"\"\"\n",
    "    norm = mcolors.CenteredNorm(vcenter = 0, halfrange = 1) # assume normalization\n",
    "    mapper = cm.ScalarMappable(norm = norm, cmap = cm.RdYlBu)\n",
    "    directions = [\"X\", \"Y\", \"Z\"]\n",
    "    if allDirections:\n",
    "        fig, ax = plt.subplots(nrows = 1, ncols = 3, figsize=(15,3))\n",
    "        for i in [0, 1, 2]:\n",
    "            rgbaArray = np.expand_dims(mapper.to_rgba(data[:, i]), axis = 0)\n",
    "            ax[i].axis(\"off\")\n",
    "            ax[i].set_title(directions[i] + \"-direction\")\n",
    "            ax[i].imshow(rgbaArray, extent=[0, rgbaArray.shape[1], 0, 1], aspect= \"auto\")\n",
    "            fig.suptitle(title, size = 20, y = 1.1)\n",
    "    else:\n",
    "        rgbaArray = np.expand_dims(mapper.to_rgba(data), axis = 0)\n",
    "        plt.axis(\"off\")\n",
    "        plt.imshow(rgbaArray, extent=[0, rgbaArray.shape[1], 0, 1], aspect= \"auto\")\n",
    "        plt.title(title, size = 20, y = 1, loc = \"left\")\n",
    "    plt.show()"
   ]
  },
  {
   "cell_type": "code",
   "execution_count": null,
   "metadata": {},
   "outputs": [],
   "source": [
    "test = np.arange(start = -1, stop = 1, step = 0.01)\n",
    "displacementPlot(test, title = \"Range of colors from -1 to 1\")"
   ]
  },
  {
   "cell_type": "code",
   "execution_count": null,
   "metadata": {},
   "outputs": [],
   "source": [
    "%matplotlib inline\n",
    "for i in np.arange(start = 0, stop = 126, step = 10):\n",
    "    displacementPlot(displacementNorm[i, :, :], allDirections = True, title = \"Data point \" + str(i))"
   ]
  }
 ],
 "metadata": {
  "kernelspec": {
   "display_name": "Python 3.9.9 64-bit",
   "language": "python",
   "name": "python3"
  },
  "language_info": {
   "codemirror_mode": {
    "name": "ipython",
    "version": 3
   },
   "file_extension": ".py",
   "mimetype": "text/x-python",
   "name": "python",
   "nbconvert_exporter": "python",
   "pygments_lexer": "ipython3",
   "version": "3.9.9"
  },
  "orig_nbformat": 4,
  "vscode": {
   "interpreter": {
    "hash": "aee8b7b246df8f9039afb4144a1f6fd8d2ca17a180786b69acc140d282b71a49"
   }
  }
 },
 "nbformat": 4,
 "nbformat_minor": 2
}
