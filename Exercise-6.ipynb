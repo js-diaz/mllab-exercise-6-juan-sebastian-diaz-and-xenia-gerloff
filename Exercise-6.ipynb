{
 "cells": [
  {
   "cell_type": "code",
   "execution_count": 14,
   "metadata": {},
   "outputs": [],
   "source": [
    "import numpy as np\n",
    "import pandas as pd"
   ]
  },
  {
   "cell_type": "code",
   "execution_count": 30,
   "metadata": {},
   "outputs": [
    {
     "data": {
      "text/html": [
       "<div>\n",
       "<style scoped>\n",
       "    .dataframe tbody tr th:only-of-type {\n",
       "        vertical-align: middle;\n",
       "    }\n",
       "\n",
       "    .dataframe tbody tr th {\n",
       "        vertical-align: top;\n",
       "    }\n",
       "\n",
       "    .dataframe thead th {\n",
       "        text-align: right;\n",
       "    }\n",
       "</style>\n",
       "<table border=\"1\" class=\"dataframe\">\n",
       "  <thead>\n",
       "    <tr style=\"text-align: right;\">\n",
       "      <th></th>\n",
       "      <th>NodeNumber</th>\n",
       "      <th>xPos</th>\n",
       "      <th>yPos</th>\n",
       "      <th>zPos</th>\n",
       "    </tr>\n",
       "  </thead>\n",
       "  <tbody>\n",
       "    <tr>\n",
       "      <th>0</th>\n",
       "      <td>2023483</td>\n",
       "      <td>4092.1599</td>\n",
       "      <td>323.10001</td>\n",
       "      <td>487.19998</td>\n",
       "    </tr>\n",
       "    <tr>\n",
       "      <th>1</th>\n",
       "      <td>2023484</td>\n",
       "      <td>4079.5200</td>\n",
       "      <td>324.01999</td>\n",
       "      <td>493.63998</td>\n",
       "    </tr>\n",
       "    <tr>\n",
       "      <th>2</th>\n",
       "      <td>2023485</td>\n",
       "      <td>4066.8899</td>\n",
       "      <td>324.95999</td>\n",
       "      <td>500.07999</td>\n",
       "    </tr>\n",
       "    <tr>\n",
       "      <th>3</th>\n",
       "      <td>2023486</td>\n",
       "      <td>4054.2600</td>\n",
       "      <td>325.89999</td>\n",
       "      <td>506.51999</td>\n",
       "    </tr>\n",
       "    <tr>\n",
       "      <th>4</th>\n",
       "      <td>2023487</td>\n",
       "      <td>4041.6299</td>\n",
       "      <td>326.85999</td>\n",
       "      <td>512.95996</td>\n",
       "    </tr>\n",
       "    <tr>\n",
       "      <th>...</th>\n",
       "      <td>...</td>\n",
       "      <td>...</td>\n",
       "      <td>...</td>\n",
       "      <td>...</td>\n",
       "    </tr>\n",
       "    <tr>\n",
       "      <th>3228</th>\n",
       "      <td>2028447</td>\n",
       "      <td>3497.6399</td>\n",
       "      <td>-402.69998</td>\n",
       "      <td>399.26999</td>\n",
       "    </tr>\n",
       "    <tr>\n",
       "      <th>3229</th>\n",
       "      <td>2028448</td>\n",
       "      <td>3491.9600</td>\n",
       "      <td>-427.53998</td>\n",
       "      <td>396.35999</td>\n",
       "    </tr>\n",
       "    <tr>\n",
       "      <th>3230</th>\n",
       "      <td>2028449</td>\n",
       "      <td>3502.1399</td>\n",
       "      <td>-423.73999</td>\n",
       "      <td>400.56000</td>\n",
       "    </tr>\n",
       "    <tr>\n",
       "      <th>3231</th>\n",
       "      <td>2028450</td>\n",
       "      <td>3474.6899</td>\n",
       "      <td>-407.62000</td>\n",
       "      <td>391.42999</td>\n",
       "    </tr>\n",
       "    <tr>\n",
       "      <th>3232</th>\n",
       "      <td>2028451</td>\n",
       "      <td>3481.6799</td>\n",
       "      <td>-431.32999</td>\n",
       "      <td>392.72000</td>\n",
       "    </tr>\n",
       "  </tbody>\n",
       "</table>\n",
       "<p>3233 rows × 4 columns</p>\n",
       "</div>"
      ],
      "text/plain": [
       "      NodeNumber       xPos       yPos       zPos\n",
       "0        2023483  4092.1599  323.10001  487.19998\n",
       "1        2023484  4079.5200  324.01999  493.63998\n",
       "2        2023485  4066.8899  324.95999  500.07999\n",
       "3        2023486  4054.2600  325.89999  506.51999\n",
       "4        2023487  4041.6299  326.85999  512.95996\n",
       "...          ...        ...        ...        ...\n",
       "3228     2028447  3497.6399 -402.69998  399.26999\n",
       "3229     2028448  3491.9600 -427.53998  396.35999\n",
       "3230     2028449  3502.1399 -423.73999  400.56000\n",
       "3231     2028450  3474.6899 -407.62000  391.42999\n",
       "3232     2028451  3481.6799 -431.32999  392.72000\n",
       "\n",
       "[3233 rows x 4 columns]"
      ]
     },
     "execution_count": 30,
     "metadata": {},
     "output_type": "execute_result"
    }
   ],
   "source": [
    "pd.read_csv('Truck-Crash-Data/origPositions.csv')"
   ]
  },
  {
   "cell_type": "markdown",
   "metadata": {},
   "source": [
    "We can ignore the node numbers, they're always in order"
   ]
  },
  {
   "cell_type": "code",
   "execution_count": 67,
   "metadata": {},
   "outputs": [
    {
     "data": {
      "text/plain": [
       "(126, 3233, 3)"
      ]
     },
     "execution_count": 67,
     "metadata": {},
     "output_type": "execute_result"
    }
   ],
   "source": [
    "origPositions = np.array(pd.read_csv('Truck-Crash-Data/origPositions.csv'))[:,1:]\n",
    "displacementSim = np.zeros((126, origPositions.shape[0], 3))\n",
    "for i in range(126):\n",
    "    displacementSim[i] = np.array(pd.read_csv('Truck-Crash-Data/DisplacementSimulation' + str(i+1) + '.csv'))[:,1:]\n",
    "displacementSim.shape"
   ]
  }
 ],
 "metadata": {
  "kernelspec": {
   "display_name": "Python 3.10.4 64-bit",
   "language": "python",
   "name": "python3"
  },
  "language_info": {
   "codemirror_mode": {
    "name": "ipython",
    "version": 3
   },
   "file_extension": ".py",
   "mimetype": "text/x-python",
   "name": "python",
   "nbconvert_exporter": "python",
   "pygments_lexer": "ipython3",
   "version": "3.10.4"
  },
  "orig_nbformat": 4,
  "vscode": {
   "interpreter": {
    "hash": "916dbcbb3f70747c44a77c7bcd40155683ae19c65e1c03b4aa3499c5328201f1"
   }
  }
 },
 "nbformat": 4,
 "nbformat_minor": 2
}
